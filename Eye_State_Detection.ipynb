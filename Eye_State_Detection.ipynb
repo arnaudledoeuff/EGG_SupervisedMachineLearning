{
 "cells": [
  {
   "cell_type": "markdown",
   "metadata": {},
   "source": [
    "# Project 1 : Predicting the eye state of a subject from EEG data using supervised classification algorithms\n",
    "*Arnaud Le Doeuff*\n",
    "\n",
    "*Ignacio Dorado*\n",
    "\n",
    "10/2020"
   ]
  },
  {
   "cell_type": "markdown",
   "metadata": {},
   "source": [
    "## Libraries importation"
   ]
  },
  {
   "cell_type": "code",
   "execution_count": 1,
   "metadata": {},
   "outputs": [],
   "source": [
    "# general python libraries\n",
    "from scipy.io import arff\n",
    "from matplotlib import pyplot as plt\n",
    "import pandas as pd\n",
    "import numpy as np\n",
    "\n",
    "# sklearn functions\n",
    "from sklearn.metrics import accuracy_score\n",
    "from sklearn.model_selection import KFold\n",
    "from sklearn.neighbors import KNeighborsClassifier\n",
    "from sklearn.ensemble import RandomForestClassifier\n",
    "from sklearn import svm\n",
    "from sklearn.feature_selection import SelectKBest\n",
    "from sklearn.feature_selection import f_classif\n",
    "from sklearn.pipeline import Pipeline\n",
    "from sklearn.decomposition import PCA\n",
    "\n",
    "# defined functions\n",
    "import Eye_State_Functions as f"
   ]
  },
  {
   "cell_type": "markdown",
   "metadata": {},
   "source": [
    "## Data importation"
   ]
  },
  {
   "cell_type": "markdown",
   "metadata": {},
   "source": [
    "*Brief description of the dataset:*\n",
    "All data is from one continuous EEG measurement with the Emotiv EEG Neuroheadset. The duration of the measurement was 117 seconds. The eye state was detected via a camera during the EEG measurement and added later manually to the file after analysing the video frames. '1' indicates the eye-closed and '0' the eye-open state. All values are in chronological order with the first measured value at the top of the data."
   ]
  },
  {
   "cell_type": "code",
   "execution_count": 2,
   "metadata": {},
   "outputs": [],
   "source": [
    "# Load the dataset from the csv file\n",
    "data = pd.read_csv('EEG_Eye_State.csv', header=None)\n",
    "# retrieve data as numpy array\n",
    "values = data.values"
   ]
  },
  {
   "cell_type": "markdown",
   "metadata": {},
   "source": [
    "## Data plotting"
   ]
  },
  {
   "cell_type": "code",
   "execution_count": 3,
   "metadata": {},
   "outputs": [
    {
     "data": {
      "image/png": "[encoded data removed]",
      "text/plain": [
       "<Figure size 432x288 with 1 Axes>"
      ]
     },
     "metadata": {
      "needs_background": "light"
     },
     "output_type": "display_data"
    }
   ],
   "source": [
    "# plot all data in the same graph\n",
    "plt.figure()\n",
    "for i in range(values.shape[1]):\n",
    "    plt.plot(values[:, i])\n",
    "plt.show()"
   ]
  },
  {
   "cell_type": "markdown",
   "metadata": {},
   "source": [
    "We can see some outliers that prevents us to get a proper view of the data. Lets  remove them."
   ]
  },
  {
   "cell_type": "markdown",
   "metadata": {},
   "source": [
    "## Outliers removal"
   ]
  },
  {
   "cell_type": "code",
   "execution_count": 4,
   "metadata": {},
   "outputs": [
    {
     "name": "stdout",
     "output_type": "stream",
     "text": [
      ">deleted 0 rows\n",
      ">deleted 1 rows\n",
      ">deleted 2 rows\n",
      ">deleted 1 rows\n",
      ">deleted 0 rows\n",
      ">deleted 142 rows\n",
      ">deleted 0 rows\n",
      ">deleted 48 rows\n",
      ">deleted 0 rows\n",
      ">deleted 153 rows\n",
      ">deleted 0 rows\n",
      ">deleted 43 rows\n",
      ">deleted 0 rows\n",
      ">deleted 0 rows\n",
      ">deleted 0 rows\n",
      ">deleted 15 rows\n",
      ">deleted 0 rows\n",
      ">deleted 5 rows\n",
      ">deleted 10 rows\n",
      ">deleted 0 rows\n",
      ">deleted 21 rows\n",
      ">deleted 53 rows\n",
      ">deleted 0 rows\n",
      ">deleted 12 rows\n",
      ">deleted 58 rows\n",
      ">deleted 53 rows\n",
      ">deleted 0 rows\n",
      ">deleted 59 rows\n"
     ]
    }
   ],
   "source": [
    "# step over each EEG column\n",
    "for i in range(values.shape[1] - 1):\n",
    "    # calculate column mean and standard deviation\n",
    "    data_mean = np.mean(values[:,i])\n",
    "    data_std = np.std(values[:,i])\n",
    "    # define outlier bounds\n",
    "    cut_off = data_std * 4\n",
    "    lower = data_mean - cut_off\n",
    "    upper = data_mean + cut_off\n",
    "    # remove too small\n",
    "    too_small = [j for j in range(values.shape[0]) if values[j,i] < lower]\n",
    "    values = np.delete(values, too_small, 0)\n",
    "    print('>deleted %d rows' % len(too_small))\n",
    "    # remove too large\n",
    "    too_large = [j for j in range(values.shape[0]) if values[j,i] > upper]\n",
    "    values = np.delete(values, too_large, 0)\n",
    "    print('>deleted %d rows' % len(too_large))\n",
    "    \n",
    "# save the results to a new file\n",
    "np.savetxt('EEG_Eye_State_no_outliers.csv', values, delimiter=',')"
   ]
  },
  {
   "cell_type": "markdown",
   "metadata": {},
   "source": [
    "Now we load the data without the outliers from the new file"
   ]
  },
  {
   "cell_type": "code",
   "execution_count": 5,
   "metadata": {},
   "outputs": [],
   "source": [
    "data = pd.read_csv('EEG_Eye_State_no_outliers.csv', header=None)\n",
    "values = data.values"
   ]
  },
  {
   "cell_type": "markdown",
   "metadata": {},
   "source": [
    "## Data plotting (no outliers)"
   ]
  },
  {
   "cell_type": "code",
   "execution_count": 6,
   "metadata": {},
   "outputs": [
    {
     "data": {
      "image/png": "[encoded data removed]",
      "text/plain": [
       "<Figure size 432x288 with 1 Axes>"
      ]
     },
     "metadata": {
      "needs_background": "light"
     },
     "output_type": "display_data"
    }
   ],
   "source": [
    "# plot all data in the same graph\n",
    "plt.figure()\n",
    "for i in range(values.shape[1]):\n",
    "    plt.plot(values[:, i])\n",
    "plt.show()"
   ]
  },
  {
   "cell_type": "markdown",
   "metadata": {},
   "source": [
    "We can not get a good view of them because they overlap and the target variable is 1 or 0, so we plot every feature in a different graph, together with the target variable"
   ]
  },
  {
   "cell_type": "code",
   "execution_count": 7,
   "metadata": {},
   "outputs": [
    {
     "data": {
      "image/png": "[encoded data removed]",
      "text/plain": [
       "<Figure size 432x288 with 15 Axes>"
      ]
     },
     "metadata": {
      "needs_background": "light"
     },
     "output_type": "display_data"
    }
   ],
   "source": [
    "# plot each feature in a different graph\n",
    "plt.figure()\n",
    "for i in range(values.shape[1]):\n",
    "    plt.subplot(values.shape[1], 1, i+1)\n",
    "    plt.plot(values[:, i])\n",
    "plt.show()"
   ]
  },
  {
   "cell_type": "markdown",
   "metadata": {},
   "source": [
    "## Non Temporal Data Split"
   ]
  },
  {
   "cell_type": "markdown",
   "metadata": {},
   "source": [
    "We split without taking into account any temporal order"
   ]
  },
  {
   "cell_type": "code",
   "execution_count": 8,
   "metadata": {},
   "outputs": [],
   "source": [
    "np.random.shuffle(values)\n",
    "split_size = round(values.shape[0]*0.7)\n",
    "X_train = values[:split_size, :-1]\n",
    "y_train = values[:split_size, -1]\n",
    "X_test = values[split_size:, :-1]\n",
    "y_test = values[split_size:, -1]"
   ]
  },
  {
   "cell_type": "code",
   "execution_count": 9,
   "metadata": {},
   "outputs": [
    {
     "name": "stdout",
     "output_type": "stream",
     "text": [
      "The amount of closed eyes examples in the training set is: 4513.0\n",
      "0.4507140717067812% of the set\n",
      "The amount of open eyes examples in the training set is: 5500.0\n",
      "0.5492859282932188% of the set\n"
     ]
    }
   ],
   "source": [
    "closed_eyes = np.sum(y_train)\n",
    "open_eyes = y_train.shape[0] - closed_eyes\n",
    "print('The amount of closed eyes examples in the training set is: ' + str(closed_eyes))\n",
    "print(str(closed_eyes/y_train.shape[0]) + '% of the set')\n",
    "print('The amount of open eyes examples in the training set is: ' + str(open_eyes))\n",
    "print(str(open_eyes/y_train.shape[0]) + '% of the set')"
   ]
  },
  {
   "cell_type": "markdown",
   "metadata": {},
   "source": [
    "Our data is slightly unbalanced, but it should not be a problem. 55-45 is still enough balanced for us to keep working as usual and choose accuracy as our performance meassure. A cross validation function using the accuracy is implemented in Eye_State_Functions.py"
   ]
  },
  {
   "cell_type": "markdown",
   "metadata": {},
   "source": [
    "Support Vector Machine (linear SVC)"
   ]
  },
  {
   "cell_type": "code",
   "execution_count": 10,
   "metadata": {},
   "outputs": [
    {
     "name": "stdout",
     "output_type": "stream",
     "text": [
      "0.6071107560171777\n"
     ]
    }
   ],
   "source": [
    "model = svm.SVC()\n",
    "print(f.My_Cross_Validation(X_train, y_train, model))"
   ]
  },
  {
   "cell_type": "markdown",
   "metadata": {},
   "source": [
    "Random Forest"
   ]
  },
  {
   "cell_type": "code",
   "execution_count": 11,
   "metadata": {},
   "outputs": [
    {
     "name": "stdout",
     "output_type": "stream",
     "text": [
      "0.9161090582243083\n"
     ]
    }
   ],
   "source": [
    "model = RandomForestClassifier()\n",
    "print(f.My_Cross_Validation(X_train, y_train, model))"
   ]
  },
  {
   "cell_type": "markdown",
   "metadata": {},
   "source": [
    "K-neareast Neighbors (KNN)"
   ]
  },
  {
   "cell_type": "code",
   "execution_count": 12,
   "metadata": {},
   "outputs": [
    {
     "name": "stdout",
     "output_type": "stream",
     "text": [
      "0.9648457005892341\n"
     ]
    }
   ],
   "source": [
    "model = KNeighborsClassifier(n_neighbors=3)\n",
    "print(f.My_Cross_Validation(X_train, y_train, model))"
   ]
  },
  {
   "cell_type": "markdown",
   "metadata": {},
   "source": [
    "## Temporal Data Split"
   ]
  },
  {
   "cell_type": "markdown",
   "metadata": {},
   "source": [
    "The previous approch give us great result, but is methodologicaly wrong. When shuffling the examples we are using information from the future to predict examples from the past. Lets try do it without shuffing the dataset and respecting the order in which the measurements where taken"
   ]
  },
  {
   "cell_type": "code",
   "execution_count": 13,
   "metadata": {},
   "outputs": [],
   "source": [
    "data = pd.read_csv('EEG_Eye_State_no_outliers.csv', header=None)\n",
    "values = data.values\n",
    "\n",
    "split_size = round(values.shape[0]*0.7)\n",
    "X_train = values[:split_size, :-1]\n",
    "y_train = values[:split_size, -1]\n",
    "X_test = values[split_size:, :-1]\n",
    "y_test = values[split_size:, -1]"
   ]
  },
  {
   "cell_type": "markdown",
   "metadata": {},
   "source": [
    "Support Vector Machine (Linear SVC)"
   ]
  },
  {
   "cell_type": "code",
   "execution_count": 15,
   "metadata": {},
   "outputs": [
    {
     "name": "stdout",
     "output_type": "stream",
     "text": [
      "0.4122640567262558\n"
     ]
    }
   ],
   "source": [
    "model = svm.SVC()\n",
    "print(f.My_Cross_Validation(X_train, y_train, model))"
   ]
  },
  {
   "cell_type": "markdown",
   "metadata": {},
   "source": [
    "Random Forest"
   ]
  },
  {
   "cell_type": "code",
   "execution_count": 16,
   "metadata": {},
   "outputs": [
    {
     "name": "stdout",
     "output_type": "stream",
     "text": [
      "0.5295116348746631\n"
     ]
    }
   ],
   "source": [
    "model = RandomForestClassifier()\n",
    "print(f.My_Cross_Validation(X_train, y_train, model))"
   ]
  },
  {
   "cell_type": "markdown",
   "metadata": {},
   "source": [
    "K-nearest neighbors (KNN)"
   ]
  },
  {
   "cell_type": "code",
   "execution_count": 17,
   "metadata": {},
   "outputs": [
    {
     "name": "stdout",
     "output_type": "stream",
     "text": [
      "0.5602716468590832\n"
     ]
    }
   ],
   "source": [
    "model = KNeighborsClassifier(n_neighbors=3)\n",
    "print(f.My_Cross_Validation(X_train, y_train, model))"
   ]
  },
  {
   "cell_type": "markdown",
   "metadata": {},
   "source": [
    "## The solution: Walk-Forward Validation"
   ]
  },
  {
   "cell_type": "markdown",
   "metadata": {},
   "source": [
    "Now that we respect the temporal order, we get very poor results, but we can do better if we allow the model to see previous information from the past (but never from the future). We can do that using Walk-forward validation which evaluate a new model for each new example. An implementation of this function is written in Eye_State_Functions.py\n",
    "From now on, will use just KNN since it has proven to be the best classifier in this dataset"
   ]
  },
  {
   "cell_type": "code",
   "execution_count": 18,
   "metadata": {},
   "outputs": [
    {
     "name": "stdout",
     "output_type": "stream",
     "text": [
      "1.0\n"
     ]
    }
   ],
   "source": [
    "model = KNeighborsClassifier(n_neighbors=3)\n",
    "print(f.My_Walk_Forward_Validation (X_train, y_train, model, 10))"
   ]
  },
  {
   "cell_type": "markdown",
   "metadata": {},
   "source": [
    "Now we get the best result"
   ]
  },
  {
   "cell_type": "markdown",
   "metadata": {},
   "source": [
    "## Feature importance"
   ]
  },
  {
   "cell_type": "markdown",
   "metadata": {},
   "source": [
    "## Feature selection"
   ]
  },
  {
   "cell_type": "markdown",
   "metadata": {},
   "source": [
    "We obtained pretty good results with the KNN algorithm, but we sill can improve them, as well as computational time. Lets try some feature selection"
   ]
  },
  {
   "cell_type": "code",
   "execution_count": 19,
   "metadata": {},
   "outputs": [
    {
     "name": "stdout",
     "output_type": "stream",
     "text": [
      "1 features selected\n",
      "1.0\n",
      "2 features selected\n",
      "1.0\n",
      "3 features selected\n",
      "1.0\n",
      "4 features selected\n",
      "1.0\n",
      "5 features selected\n",
      "1.0\n",
      "6 features selected\n",
      "1.0\n",
      "7 features selected\n",
      "1.0\n",
      "8 features selected\n",
      "1.0\n",
      "9 features selected\n",
      "1.0\n",
      "10 features selected\n",
      "1.0\n",
      "11 features selected\n",
      "1.0\n",
      "12 features selected\n",
      "1.0\n",
      "13 features selected\n",
      "1.0\n",
      "14 features selected\n",
      "1.0\n"
     ]
    }
   ],
   "source": [
    "for i in range(X_train.shape[1]):\n",
    "    print(str(i+1) + ' features selected')\n",
    "    \n",
    "    kbest = SelectKBest (f_classif, k=i+1)\n",
    "    new_features = kbest.fit_transform(X_train, y_train)\n",
    "    \n",
    "    model = KNeighborsClassifier(n_neighbors=3)\n",
    "    \n",
    "    print(f.My_Walk_Forward_Validation (new_features, y_train, model, 10))"
   ]
  },
  {
   "cell_type": "markdown",
   "metadata": {},
   "source": [
    "It seems like 1 feature is important enough to let us predict every example if we know the previous 10 measurments\n",
    "\n",
    "*Disclaimer: it looks like something went wrong here, but we could not figure it out"
   ]
  },
  {
   "cell_type": "markdown",
   "metadata": {},
   "source": [
    "## TPOT optimization"
   ]
  },
  {
   "cell_type": "code",
   "execution_count": 20,
   "metadata": {},
   "outputs": [
    {
     "name": "stderr",
     "output_type": "stream",
     "text": [
      "c:\\users\\nacho\\appdata\\local\\programs\\python\\python37\\lib\\site-packages\\tpot\\builtins\\__init__.py:36: UserWarning: Warning: optional dependency `torch` is not available. - skipping import of NN models.\n",
      "  warnings.warn(\"Warning: optional dependency `torch` is not available. - skipping import of NN models.\")\n"
     ]
    },
    {
     "name": "stdout",
     "output_type": "stream",
     "text": [
      "Warning: xgboost.XGBClassifier is not available and will not be used by TPOT.\n"
     ]
    },
    {
     "data": {
      "application/vnd.jupyter.widget-view+json": {
       "model_id": "",
       "version_major": 2,
       "version_minor": 0
      },
      "text/plain": [
       "HBox(children=(HTML(value='Optimization Progress'), FloatProgress(value=0.0, max=60.0), HTML(value='')))"
      ]
     },
     "metadata": {},
     "output_type": "display_data"
    },
    {
     "name": "stdout",
     "output_type": "stream",
     "text": [
      "\n",
      "Generation 1 - Current best internal CV score: 0.5780399829825692\n",
      "Generation 2 - Current best internal CV score: 0.5780399829825692\n",
      "Generation 3 - Current best internal CV score: 0.5795381852296481\n",
      "Generation 4 - Current best internal CV score: 0.5795381852296481\n",
      "Generation 5 - Current best internal CV score: 0.5799388828844645\n",
      "Best pipeline: KNeighborsClassifier(input_matrix, n_neighbors=28, p=2, weights=distance)\n"
     ]
    },
    {
     "data": {
      "text/plain": [
       "TPOTClassifier(generations=5,\n",
       "               log_file=<ipykernel.iostream.OutStream object at 0x000001AF25EA1388>,\n",
       "               population_size=10, verbosity=2)"
      ]
     },
     "execution_count": 20,
     "metadata": {},
     "output_type": "execute_result"
    }
   ],
   "source": [
    "from tpot import TPOTClassifier\n",
    "\n",
    "tpot = TPOTClassifier(generations=5, population_size=10, verbosity=2)\n",
    "tpot.fit(X_train, y_train)"
   ]
  },
  {
   "cell_type": "code",
   "execution_count": 21,
   "metadata": {},
   "outputs": [
    {
     "data": {
      "text/plain": [
       "[('kneighborsclassifier',\n",
       "  KNeighborsClassifier(n_neighbors=28, weights='distance'))]"
      ]
     },
     "execution_count": 21,
     "metadata": {},
     "output_type": "execute_result"
    }
   ],
   "source": [
    "tpot.fitted_pipeline_.steps"
   ]
  },
  {
   "cell_type": "code",
   "execution_count": 22,
   "metadata": {},
   "outputs": [
    {
     "name": "stdout",
     "output_type": "stream",
     "text": [
      "0.4828711256117455\n"
     ]
    }
   ],
   "source": [
    "print(tpot.score(X_test, y_test))"
   ]
  }
 ],
 "metadata": {
  "kernelspec": {
   "display_name": "Python 3",
   "language": "python",
   "name": "python3"
  },
  "language_info": {
   "codemirror_mode": {
    "name": "ipython",
    "version": 3
   },
   "file_extension": ".py",
   "mimetype": "text/x-python",
   "name": "python",
   "nbconvert_exporter": "python",
   "pygments_lexer": "ipython3",
   "version": "3.7.9"
  }
 },
 "nbformat": 4,
 "nbformat_minor": 4
}
